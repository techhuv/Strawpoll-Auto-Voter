{
 "cells": [
  {
   "cell_type": "code",
   "execution_count": 3,
   "metadata": {},
   "outputs": [],
   "source": [
    "from selenium import webdriver\n",
    "import time\n",
    "#import chromedriver_binary  # Adds chromedriver binary to path\n",
    "import requests\n",
    "from selenium import webdriver\n",
    "import time\n",
    "from selenium.webdriver.chrome.options import Options\n",
    "from selenium.webdriver.common.keys import Keys\n",
    "from bs4 import BeautifulSoup, NavigableString, Tag \n",
    "import pandas as pd\n",
    "import os\n",
    "import re\n",
    "from selenium.webdriver.support.ui import WebDriverWait\n",
    "from selenium.webdriver.common.by import By\n",
    "from selenium.webdriver.support import expected_conditions as EC \n",
    "from selenium.common.exceptions import NoSuchElementException\n",
    "from selenium.webdriver.common.action_chains import ActionChains\n",
    "import pyautogui\n",
    "from webdriver_manager.chrome import ChromeDriverManager\n",
    "from urllib.request import Request, urlopen\n",
    "from bs4 import BeautifulSoup, NavigableString, Tag\n",
    "import webbrowser"
   ]
  },
  {
   "cell_type": "code",
   "execution_count": null,
   "metadata": {},
   "outputs": [],
   "source": []
  },
  {
   "cell_type": "code",
   "execution_count": 10,
   "metadata": {},
   "outputs": [],
   "source": [
    "path = os.getcwd()\n",
    "TARGET_URL='https://strawpoll.com/h9qggf7d5'\n",
    "\n",
    "import pandas as pd\n",
    "df = pd.read_excel('file.xls')"
   ]
  },
  {
   "cell_type": "code",
   "execution_count": 11,
   "metadata": {},
   "outputs": [],
   "source": [
    "tnames=df['Name']\n",
    "tnames=tnames.to_list()"
   ]
  },
  {
   "cell_type": "code",
   "execution_count": 12,
   "metadata": {},
   "outputs": [],
   "source": [
    "# data = pd.read_excel(\"VOTORS LIST.xls\")    \n",
    "# df = pd.DataFrame(data, columns=['Name'])"
   ]
  },
  {
   "cell_type": "code",
   "execution_count": 13,
   "metadata": {},
   "outputs": [
    {
     "data": {
      "text/plain": [
       "['CHANGIRAM JAT',\n",
       " 'AARYA PATNI',\n",
       " 'LALIT SINGH UJJWAL',\n",
       " 'BHARTI PANDIYA',\n",
       " 'AKRITI JAIN',\n",
       " 'ASHISH SONI',\n",
       " 'KAMAL CHAND KASLIWAL',\n",
       " 'RAHUL JAIN',\n",
       " 'SHANKAR GAMI',\n",
       " 'SHUBHAM GAMI',\n",
       " 'APEKSHA GANGWAL',\n",
       " 'SANJANA BACHAL',\n",
       " 'AANAND PARMAR',\n",
       " 'ASHOK BAM',\n",
       " 'PRADHUMN SONI',\n",
       " 'HARSH BACHAL',\n",
       " 'RAKHI PATNI',\n",
       " 'RUPCHAND SETHI',\n",
       " 'ARPIT SETHI',\n",
       " 'DARSH JAIN',\n",
       " 'RIYA GANGWAL',\n",
       " 'PAWAN TONGIYA',\n",
       " 'MEGHA TONGIYA',\n",
       " 'AJAY PATNI',\n",
       " 'DOLLY GANGWAL',\n",
       " 'ASTHA GANGWAL',\n",
       " 'RAHUL SONI',\n",
       " 'AKHIL PATNI',\n",
       " 'VINEET BAM',\n",
       " 'SACHIN KASLIWAL',\n",
       " 'DEEPAK SONI',\n",
       " 'AKSHAT PATNI',\n",
       " 'PRADEEP CHANDWAD',\n",
       " 'VIJAY PANDIYA',\n",
       " 'RUCHI TONGIYA',\n",
       " 'MAYURI JHANJHARI',\n",
       " 'AKSHITA BAM',\n",
       " 'DHARMENDRA KASLIWAL',\n",
       " 'NAMAN PANDIYA ',\n",
       " 'ASHOK CHABDA',\n",
       " 'RAKESH GAMI',\n",
       " 'GAUTAM BAM ',\n",
       " 'LOKESH KATHED',\n",
       " 'PRADEEP PATNI',\n",
       " 'SOURABH GAMI',\n",
       " 'BHEEM BAM',\n",
       " 'SHUBHAM BAM',\n",
       " 'SWATI PANDIYA',\n",
       " 'SURYA PATIDAR',\n",
       " 'HIRAMANI GANGWAL',\n",
       " 'PIYUSH SONI',\n",
       " 'ADITYA TONGIYA']"
      ]
     },
     "execution_count": 13,
     "metadata": {},
     "output_type": "execute_result"
    }
   ],
   "source": [
    "#names = ['Samudragupta Lalita','Prateek Oruganti','Narendra Rajagopal','Rituparan Pramsu','Gurcharan Ritula','Achyutaraya Shorey','Rajkumar Suchi','Naveen Nergis']\n",
    "import random\n",
    "random.shuffle(tnames)\n",
    "len(tnames)\n",
    "tnames = tnames[::2]\n",
    "tnames"
   ]
  },
  {
   "cell_type": "code",
   "execution_count": 14,
   "metadata": {},
   "outputs": [],
   "source": [
    "# code for generatig proxies\n",
    "# headers = {'User-Agent': 'Mozilla/5.0 (X11; Linux x86_64) AppleWebKit/537.36 (KHTML, like Gecko) Chrome/67.0.3396.62 Safari/537.36'}\n",
    "# page = requests.get (\"https://proxy-daily.com\", headers = headers).text\n",
    "# page = page [page.find (\"centeredProxyList freeProxyStyle\"):]\n",
    "# page = page [page.find (\">\") + 1:]\n",
    "# page = page [:page.find (\"</div>\")]\n",
    "# proxies = page.split (\"\\n\")\n",
    "# print (\"Loaded {} proxies.\".format (len (proxies)))"
   ]
  },
  {
   "cell_type": "code",
   "execution_count": 15,
   "metadata": {},
   "outputs": [],
   "source": [
    "time.sleep(5)"
   ]
  },
  {
   "cell_type": "code",
   "execution_count": null,
   "metadata": {},
   "outputs": [],
   "source": [
    "for k in urls:\n",
    "    time.sleep(5)\n",
    "    pyautogui.hotkey('ALT','d')\n",
    "    time.sleep(1)\n",
    "#     chrome_options = webdriver.ChromeOptions()\n",
    "#     chrome_options.add_argument('--proxy-server=%s' % proxies[j])\n",
    "#     j=j+1\n",
    "\n",
    "    pyautogui.typewrite(k)\n",
    "    pyautogui.hotkey('enter')\n",
    "    time.sleep(6)\n",
    "#     for i in range(1,4):\n",
    "#         pyautogui.hotkey('TAB')\n",
    "#         time.sleep(0.5)\n",
    "#     pyautogui.hotkey('enter')\n",
    "    for i in range(1,3):\n",
    "        pyautogui.hotkey('TAB')\n",
    "        time.sleep(0.5)\n",
    "    for i in range(1,5):\n",
    "        pyautogui.hotkey('DOWN')\n",
    "        time.sleep(0.5)\n",
    "    pyautogui.hotkey('TAB')\n",
    "    time.sleep(0.5)\n",
    "    pyautogui.typewrite(k)\n",
    "    pyautogui.hotkey('enter')\n",
    "    time.sleep(15)\n",
    "    pyautogui.hotkey('CTRL','SHIFT','U')\n",
    "    time.sleep(3)"
   ]
  },
  {
   "cell_type": "code",
   "execution_count": null,
   "metadata": {},
   "outputs": [],
   "source": [
    "# var chromeOptions = new ChromeOptions();\n",
    "# chromeOptions.AddUserProfilePreference(\"download.default_directory\", \"Your_Path\");\n",
    "# chromeOptions.AddUserProfilePreference(\"intl.accept_languages\", \"nl\");\n",
    "# chromeOptions.AddUserProfilePreference(\"disable-popup-blocking\", \"true\");\n",
    "# var driver = new ChromeDriver(\"Driver_Path\", chromeOptions);"
   ]
  },
  {
   "cell_type": "markdown",
   "metadata": {},
   "source": [
    "# Trial for scrapping linkedIN profiles"
   ]
  },
  {
   "cell_type": "code",
   "execution_count": 4,
   "metadata": {},
   "outputs": [],
   "source": [
    "import pandas as pd\n",
    "import chardet\n",
    "fname = 'LinkedinCompaniesURLs.csv'\n",
    "with open(fname, 'rb') as rawdata:\n",
    "    result = chardet.detect(rawdata.read(100000))\n",
    "result\n",
    "file = pd.read_csv(fname,encoding='ascii',nrows=10,header=None)\n",
    "urls = file[0].tolist()"
   ]
  },
  {
   "cell_type": "code",
   "execution_count": 5,
   "metadata": {},
   "outputs": [],
   "source": [
    "for k in urls:\n",
    "    time.sleep(5)\n",
    "    pyautogui.hotkey('ALT','d')\n",
    "    time.sleep(1)\n",
    "#     chrome_options = webdriver.ChromeOptions()\n",
    "#     chrome_options.add_argument('--proxy-server=%s' % proxies[j])\n",
    "#     j=j+1\n",
    "\n",
    "    pyautogui.typewrite(k)\n",
    "    pyautogui.hotkey('enter')\n",
    "    time.sleep(6)\n",
    "    pyautogui.hotkey('CTRL','SHIFT','U')\n",
    "    time.sleep(3)\n"
   ]
  },
  {
   "cell_type": "raw",
   "metadata": {},
   "source": []
  }
 ],
 "metadata": {
  "kernelspec": {
   "display_name": "Python 3",
   "language": "python",
   "name": "python3"
  },
  "language_info": {
   "codemirror_mode": {
    "name": "ipython",
    "version": 3
   },
   "file_extension": ".py",
   "mimetype": "text/x-python",
   "name": "python",
   "nbconvert_exporter": "python",
   "pygments_lexer": "ipython3",
   "version": "3.8.5"
  }
 },
 "nbformat": 4,
 "nbformat_minor": 2
}
